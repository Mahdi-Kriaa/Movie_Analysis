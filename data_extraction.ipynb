{
 "cells": [
  {
   "cell_type": "code",
   "execution_count": 1,
   "metadata": {},
   "outputs": [],
   "source": [
    "# imports\n",
    "import json\n",
    "import tmdbsimple as tmdb \n",
    "import pandas as pd\n",
    "from tqdm.notebook import tqdm_notebook"
   ]
  },
  {
   "cell_type": "code",
   "execution_count": 2,
   "metadata": {},
   "outputs": [],
   "source": [
    "# connect to the \"TMDB\" API\n",
    "with open(\".secret/tmdb_api.json\", 'r') as f:\n",
    "    login = json.load(f)\n",
    "tmdb.API_KEY =  login['api_key']"
   ]
  },
  {
   "cell_type": "code",
   "execution_count": 3,
   "metadata": {},
   "outputs": [],
   "source": [
    "# define list of years to get from API\n",
    "years_to_get = list(range(2010, 2020))"
   ]
  },
  {
   "cell_type": "code",
   "execution_count": 4,
   "metadata": {},
   "outputs": [],
   "source": [
    "# define function to get movie informations with RPAA rating\n",
    "def get_with_rating(API, movie_id):\n",
    "    movie = API.Movies(movie_id)\n",
    "    movie_info = movie.info()\n",
    "    releases = movie.releases()\n",
    "    for c in releases[\"countries\"]:\n",
    "        if c[\"iso_3166_1\"] == \"US\":\n",
    "            movie_info[\"certification\"] = c[\"certification\"]\n",
    "    return(movie_info)\n",
    "# define function to save records in a json file\n",
    "def write_json(new_data, filename):   \n",
    "    with open(filename,\"r+\") as file:\n",
    "        file_data = json.load(file)\n",
    "        if (type(new_data) == list) & (type(file_data) == list):\n",
    "            file_data.extend(new_data)\n",
    "        else:\n",
    "             file_data.append(new_data)\n",
    "        file.seek(0)\n",
    "        json.dump(file_data, file)"
   ]
  },
  {
   "cell_type": "code",
   "execution_count": null,
   "metadata": {},
   "outputs": [],
   "source": [
    "# extract movies informations\n",
    "df_basics = pd.read_csv(\"Data/title_basics_filtred.csv\")\n",
    "errors = []\n",
    "for year in tqdm_notebook(years_to_get, \"Years\", position=0):\n",
    "    movie_ids = df_basics[df_basics[\"startYear\"]==float(year)][\"tconst\"]\n",
    "    with open(f\"Data/tmdb_api_results_{year}.json\", \"a+\") as f:\n",
    "        try:\n",
    "            previous_df = pd.read_json(f\"Data/tmdb_api_results_{year}.json\")\n",
    "            if previous_df.shape[0] != 0:\n",
    "                movie_ids = movie_ids[~movie_ids.isin(previous_df['imdb_id'])]\n",
    "        except:\n",
    "            f.truncate(0)\n",
    "            f.write(\"[]\")\n",
    "    for movie_id in tqdm_notebook(movie_ids, f\"Movies from {year}\", position=0):\n",
    "        try:\n",
    "            record = get_with_rating(tmdb, movie_id)\n",
    "            write_json(record, f\"Data/tmdb_api_results_{year}.json\")\n",
    "        except Exception as e:\n",
    "            errors.append([movie_id, e])"
   ]
  },
  {
   "cell_type": "code",
   "execution_count": 11,
   "metadata": {},
   "outputs": [],
   "source": [
    "# save data in csv compressed files\n",
    "for year in years_to_get:\n",
    "    year_df = pd.read_json(f\"Data/tmdb_api_results_{year}.json\")\n",
    "    year_df.to_csv(f\"Data/final_tmdb_data_{year}.csv.gz\", compression=\"gzip\", index=False)"
   ]
  }
 ],
 "metadata": {
  "kernelspec": {
   "display_name": "Python 3",
   "language": "python",
   "name": "python3"
  },
  "language_info": {
   "codemirror_mode": {
    "name": "ipython",
    "version": 3
   },
   "file_extension": ".py",
   "mimetype": "text/x-python",
   "name": "python",
   "nbconvert_exporter": "python",
   "pygments_lexer": "ipython3",
   "version": "3.11.4"
  }
 },
 "nbformat": 4,
 "nbformat_minor": 2
}
