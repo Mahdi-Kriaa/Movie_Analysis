{
 "cells": [
  {
   "cell_type": "code",
   "execution_count": 1,
   "metadata": {},
   "outputs": [],
   "source": [
    "# imports\n",
    "import pandas as pd\n",
    "import matplotlib.pyplot as plt\n",
    "import seaborn as sns\n",
    "import glob"
   ]
  },
  {
   "cell_type": "code",
   "execution_count": 2,
   "metadata": {},
   "outputs": [],
   "source": [
    "# configurate general settings\n",
    "pd.set_option('display.max_columns', None)\n",
    "sns.set_theme(style=\"whitegrid\")"
   ]
  },
  {
   "cell_type": "code",
   "execution_count": 3,
   "metadata": {},
   "outputs": [],
   "source": [
    "# get all required file paths \n",
    "tmdb_files = sorted(glob.glob(\"Data/final_tmdb_data*.csv.gz\"))\n",
    "# load and combine data in a single dataframe\n",
    "final_df = pd.concat([pd.read_csv(f) for f in tmdb_files])"
   ]
  },
  {
   "cell_type": "code",
   "execution_count": 7,
   "metadata": {},
   "outputs": [
    {
     "name": "stdout",
     "output_type": "stream",
     "text": [
      "(39460, 26)\n"
     ]
    },
    {
     "data": {
      "text/html": [
       "<div>\n",
       "<style scoped>\n",
       "    .dataframe tbody tr th:only-of-type {\n",
       "        vertical-align: middle;\n",
       "    }\n",
       "\n",
       "    .dataframe tbody tr th {\n",
       "        vertical-align: top;\n",
       "    }\n",
       "\n",
       "    .dataframe thead th {\n",
       "        text-align: right;\n",
       "    }\n",
       "</style>\n",
       "<table border=\"1\" class=\"dataframe\">\n",
       "  <thead>\n",
       "    <tr style=\"text-align: right;\">\n",
       "      <th></th>\n",
       "      <th>adult</th>\n",
       "      <th>backdrop_path</th>\n",
       "      <th>belongs_to_collection</th>\n",
       "      <th>budget</th>\n",
       "      <th>genres</th>\n",
       "      <th>homepage</th>\n",
       "      <th>id</th>\n",
       "      <th>imdb_id</th>\n",
       "      <th>original_language</th>\n",
       "      <th>original_title</th>\n",
       "      <th>overview</th>\n",
       "      <th>popularity</th>\n",
       "      <th>poster_path</th>\n",
       "      <th>production_companies</th>\n",
       "      <th>production_countries</th>\n",
       "      <th>release_date</th>\n",
       "      <th>revenue</th>\n",
       "      <th>runtime</th>\n",
       "      <th>spoken_languages</th>\n",
       "      <th>status</th>\n",
       "      <th>tagline</th>\n",
       "      <th>title</th>\n",
       "      <th>video</th>\n",
       "      <th>vote_average</th>\n",
       "      <th>vote_count</th>\n",
       "      <th>certification</th>\n",
       "    </tr>\n",
       "  </thead>\n",
       "  <tbody>\n",
       "    <tr>\n",
       "      <th>0</th>\n",
       "      <td>False</td>\n",
       "      <td>/tJLV3BAlHOgscVOrA99Wnb2gAef.jpg</td>\n",
       "      <td>NaN</td>\n",
       "      <td>48000000</td>\n",
       "      <td>[{'id': 10749, 'name': 'Romance'}, {'id': 35, ...</td>\n",
       "      <td>NaN</td>\n",
       "      <td>11232</td>\n",
       "      <td>tt0035423</td>\n",
       "      <td>en</td>\n",
       "      <td>Kate &amp; Leopold</td>\n",
       "      <td>When her scientist ex-boyfriend discovers a po...</td>\n",
       "      <td>16.236</td>\n",
       "      <td>/mUvikzKJJSg9khrVdxK8kg3TMHA.jpg</td>\n",
       "      <td>[{'id': 85, 'logo_path': None, 'name': 'Konrad...</td>\n",
       "      <td>[{'iso_3166_1': 'US', 'name': 'United States o...</td>\n",
       "      <td>2001-12-25</td>\n",
       "      <td>76019048</td>\n",
       "      <td>118</td>\n",
       "      <td>[{'english_name': 'English', 'iso_639_1': 'en'...</td>\n",
       "      <td>Released</td>\n",
       "      <td>If they lived in the same century, they'd be p...</td>\n",
       "      <td>Kate &amp; Leopold</td>\n",
       "      <td>False</td>\n",
       "      <td>6.300</td>\n",
       "      <td>1263</td>\n",
       "      <td>PG-13</td>\n",
       "    </tr>\n",
       "    <tr>\n",
       "      <th>1</th>\n",
       "      <td>False</td>\n",
       "      <td>NaN</td>\n",
       "      <td>NaN</td>\n",
       "      <td>0</td>\n",
       "      <td>[{'id': 53, 'name': 'Thriller'}, {'id': 28, 'n...</td>\n",
       "      <td>NaN</td>\n",
       "      <td>151007</td>\n",
       "      <td>tt0114447</td>\n",
       "      <td>en</td>\n",
       "      <td>The Silent Force</td>\n",
       "      <td>An elite Federal force whose objective is to e...</td>\n",
       "      <td>2.120</td>\n",
       "      <td>/u0njmfXD3dXxQfeykBHBuFQOYqD.jpg</td>\n",
       "      <td>[]</td>\n",
       "      <td>[]</td>\n",
       "      <td>2001-01-01</td>\n",
       "      <td>0</td>\n",
       "      <td>90</td>\n",
       "      <td>[{'english_name': 'English', 'iso_639_1': 'en'...</td>\n",
       "      <td>Released</td>\n",
       "      <td>They left him for dead... They should have fin...</td>\n",
       "      <td>The Silent Force</td>\n",
       "      <td>False</td>\n",
       "      <td>4.750</td>\n",
       "      <td>4</td>\n",
       "      <td>NaN</td>\n",
       "    </tr>\n",
       "    <tr>\n",
       "      <th>2</th>\n",
       "      <td>False</td>\n",
       "      <td>/rFpHBidSlhjflmnLu7BZilyKeQR.jpg</td>\n",
       "      <td>NaN</td>\n",
       "      <td>0</td>\n",
       "      <td>[{'id': 28, 'name': 'Action'}, {'id': 12, 'nam...</td>\n",
       "      <td>NaN</td>\n",
       "      <td>73549</td>\n",
       "      <td>tt0116916</td>\n",
       "      <td>en</td>\n",
       "      <td>The Dark Mist</td>\n",
       "      <td>With the future of the world hanging in the ba...</td>\n",
       "      <td>2.394</td>\n",
       "      <td>/z18E0lukzOtAALmfINSTCUU0Als.jpg</td>\n",
       "      <td>[{'id': 71364, 'logo_path': None, 'name': 'Car...</td>\n",
       "      <td>[{'iso_3166_1': 'US', 'name': 'United States o...</td>\n",
       "      <td>1996-01-01</td>\n",
       "      <td>0</td>\n",
       "      <td>101</td>\n",
       "      <td>[{'english_name': 'English', 'iso_639_1': 'en'...</td>\n",
       "      <td>Released</td>\n",
       "      <td>NaN</td>\n",
       "      <td>The Dark Mist</td>\n",
       "      <td>False</td>\n",
       "      <td>3.500</td>\n",
       "      <td>2</td>\n",
       "      <td>PG</td>\n",
       "    </tr>\n",
       "    <tr>\n",
       "      <th>3</th>\n",
       "      <td>False</td>\n",
       "      <td>/qSukSg6JBR3A4iEkRGIfHPC0W5H.jpg</td>\n",
       "      <td>NaN</td>\n",
       "      <td>22000000</td>\n",
       "      <td>[{'id': 18, 'name': 'Drama'}, {'id': 10402, 'n...</td>\n",
       "      <td>NaN</td>\n",
       "      <td>10696</td>\n",
       "      <td>tt0118589</td>\n",
       "      <td>en</td>\n",
       "      <td>Glitter</td>\n",
       "      <td>A young woman is catapulted into pop stardom, ...</td>\n",
       "      <td>6.588</td>\n",
       "      <td>/b8gKsXB6d60SC2HKUcAAzTacn0S.jpg</td>\n",
       "      <td>[{'id': 89627, 'logo_path': None, 'name': 'Gli...</td>\n",
       "      <td>[{'iso_3166_1': 'US', 'name': 'United States o...</td>\n",
       "      <td>2001-09-21</td>\n",
       "      <td>5271666</td>\n",
       "      <td>104</td>\n",
       "      <td>[{'english_name': 'English', 'iso_639_1': 'en'...</td>\n",
       "      <td>Released</td>\n",
       "      <td>In music she found her dream, her love, herself.</td>\n",
       "      <td>Glitter</td>\n",
       "      <td>False</td>\n",
       "      <td>4.400</td>\n",
       "      <td>133</td>\n",
       "      <td>PG-13</td>\n",
       "    </tr>\n",
       "    <tr>\n",
       "      <th>4</th>\n",
       "      <td>False</td>\n",
       "      <td>/mWxJEFRMvkG4UItYJkRDMgWQ08Y.jpg</td>\n",
       "      <td>NaN</td>\n",
       "      <td>1000000</td>\n",
       "      <td>[{'id': 27, 'name': 'Horror'}, {'id': 9648, 'n...</td>\n",
       "      <td>NaN</td>\n",
       "      <td>17140</td>\n",
       "      <td>tt0118652</td>\n",
       "      <td>en</td>\n",
       "      <td>The Attic Expeditions</td>\n",
       "      <td>Trevor Blackburn is accused of murdering his g...</td>\n",
       "      <td>3.763</td>\n",
       "      <td>/b0p8CjMLWc7B1nnIfFQ2uY3HLe0.jpg</td>\n",
       "      <td>[{'id': 3260, 'logo_path': None, 'name': 'Tse ...</td>\n",
       "      <td>[{'iso_3166_1': 'US', 'name': 'United States o...</td>\n",
       "      <td>2001-03-30</td>\n",
       "      <td>0</td>\n",
       "      <td>100</td>\n",
       "      <td>[{'english_name': 'English', 'iso_639_1': 'en'...</td>\n",
       "      <td>Released</td>\n",
       "      <td>His search for peace of mind... will leave his...</td>\n",
       "      <td>The Attic Expeditions</td>\n",
       "      <td>False</td>\n",
       "      <td>5.061</td>\n",
       "      <td>33</td>\n",
       "      <td>R</td>\n",
       "    </tr>\n",
       "  </tbody>\n",
       "</table>\n",
       "</div>"
      ],
      "text/plain": [
       "   adult                     backdrop_path belongs_to_collection    budget  \\\n",
       "0  False  /tJLV3BAlHOgscVOrA99Wnb2gAef.jpg                   NaN  48000000   \n",
       "1  False                               NaN                   NaN         0   \n",
       "2  False  /rFpHBidSlhjflmnLu7BZilyKeQR.jpg                   NaN         0   \n",
       "3  False  /qSukSg6JBR3A4iEkRGIfHPC0W5H.jpg                   NaN  22000000   \n",
       "4  False  /mWxJEFRMvkG4UItYJkRDMgWQ08Y.jpg                   NaN   1000000   \n",
       "\n",
       "                                              genres homepage      id  \\\n",
       "0  [{'id': 10749, 'name': 'Romance'}, {'id': 35, ...      NaN   11232   \n",
       "1  [{'id': 53, 'name': 'Thriller'}, {'id': 28, 'n...      NaN  151007   \n",
       "2  [{'id': 28, 'name': 'Action'}, {'id': 12, 'nam...      NaN   73549   \n",
       "3  [{'id': 18, 'name': 'Drama'}, {'id': 10402, 'n...      NaN   10696   \n",
       "4  [{'id': 27, 'name': 'Horror'}, {'id': 9648, 'n...      NaN   17140   \n",
       "\n",
       "     imdb_id original_language         original_title  \\\n",
       "0  tt0035423                en         Kate & Leopold   \n",
       "1  tt0114447                en       The Silent Force   \n",
       "2  tt0116916                en          The Dark Mist   \n",
       "3  tt0118589                en                Glitter   \n",
       "4  tt0118652                en  The Attic Expeditions   \n",
       "\n",
       "                                            overview  popularity  \\\n",
       "0  When her scientist ex-boyfriend discovers a po...      16.236   \n",
       "1  An elite Federal force whose objective is to e...       2.120   \n",
       "2  With the future of the world hanging in the ba...       2.394   \n",
       "3  A young woman is catapulted into pop stardom, ...       6.588   \n",
       "4  Trevor Blackburn is accused of murdering his g...       3.763   \n",
       "\n",
       "                        poster_path  \\\n",
       "0  /mUvikzKJJSg9khrVdxK8kg3TMHA.jpg   \n",
       "1  /u0njmfXD3dXxQfeykBHBuFQOYqD.jpg   \n",
       "2  /z18E0lukzOtAALmfINSTCUU0Als.jpg   \n",
       "3  /b8gKsXB6d60SC2HKUcAAzTacn0S.jpg   \n",
       "4  /b0p8CjMLWc7B1nnIfFQ2uY3HLe0.jpg   \n",
       "\n",
       "                                production_companies  \\\n",
       "0  [{'id': 85, 'logo_path': None, 'name': 'Konrad...   \n",
       "1                                                 []   \n",
       "2  [{'id': 71364, 'logo_path': None, 'name': 'Car...   \n",
       "3  [{'id': 89627, 'logo_path': None, 'name': 'Gli...   \n",
       "4  [{'id': 3260, 'logo_path': None, 'name': 'Tse ...   \n",
       "\n",
       "                                production_countries release_date   revenue  \\\n",
       "0  [{'iso_3166_1': 'US', 'name': 'United States o...   2001-12-25  76019048   \n",
       "1                                                 []   2001-01-01         0   \n",
       "2  [{'iso_3166_1': 'US', 'name': 'United States o...   1996-01-01         0   \n",
       "3  [{'iso_3166_1': 'US', 'name': 'United States o...   2001-09-21   5271666   \n",
       "4  [{'iso_3166_1': 'US', 'name': 'United States o...   2001-03-30         0   \n",
       "\n",
       "   runtime                                   spoken_languages    status  \\\n",
       "0      118  [{'english_name': 'English', 'iso_639_1': 'en'...  Released   \n",
       "1       90  [{'english_name': 'English', 'iso_639_1': 'en'...  Released   \n",
       "2      101  [{'english_name': 'English', 'iso_639_1': 'en'...  Released   \n",
       "3      104  [{'english_name': 'English', 'iso_639_1': 'en'...  Released   \n",
       "4      100  [{'english_name': 'English', 'iso_639_1': 'en'...  Released   \n",
       "\n",
       "                                             tagline                  title  \\\n",
       "0  If they lived in the same century, they'd be p...         Kate & Leopold   \n",
       "1  They left him for dead... They should have fin...       The Silent Force   \n",
       "2                                                NaN          The Dark Mist   \n",
       "3   In music she found her dream, her love, herself.                Glitter   \n",
       "4  His search for peace of mind... will leave his...  The Attic Expeditions   \n",
       "\n",
       "   video  vote_average  vote_count certification  \n",
       "0  False         6.300        1263         PG-13  \n",
       "1  False         4.750           4           NaN  \n",
       "2  False         3.500           2            PG  \n",
       "3  False         4.400         133         PG-13  \n",
       "4  False         5.061          33             R  "
      ]
     },
     "execution_count": 7,
     "metadata": {},
     "output_type": "execute_result"
    }
   ],
   "source": [
    "print(final_df.shape)\n",
    "final_df.head()"
   ]
  },
  {
   "cell_type": "code",
   "execution_count": 5,
   "metadata": {},
   "outputs": [
    {
     "data": {
      "text/plain": [
       "0"
      ]
     },
     "execution_count": 5,
     "metadata": {},
     "output_type": "execute_result"
    }
   ],
   "source": [
    "# check duplicates\n",
    "final_df.duplicated().sum()"
   ]
  },
  {
   "cell_type": "code",
   "execution_count": 6,
   "metadata": {},
   "outputs": [
    {
     "name": "stdout",
     "output_type": "stream",
     "text": [
      "<class 'pandas.core.frame.DataFrame'>\n",
      "Index: 39460 entries, 0 to 4938\n",
      "Data columns (total 26 columns):\n",
      " #   Column                 Non-Null Count  Dtype  \n",
      "---  ------                 --------------  -----  \n",
      " 0   adult                  39460 non-null  bool   \n",
      " 1   backdrop_path          26244 non-null  object \n",
      " 2   belongs_to_collection  2723 non-null   object \n",
      " 3   budget                 39460 non-null  int64  \n",
      " 4   genres                 39460 non-null  object \n",
      " 5   homepage               9951 non-null   object \n",
      " 6   id                     39460 non-null  int64  \n",
      " 7   imdb_id                39460 non-null  object \n",
      " 8   original_language      39460 non-null  object \n",
      " 9   original_title         39460 non-null  object \n",
      " 10  overview               38667 non-null  object \n",
      " 11  popularity             39460 non-null  float64\n",
      " 12  poster_path            36713 non-null  object \n",
      " 13  production_companies   39460 non-null  object \n",
      " 14  production_countries   39460 non-null  object \n",
      " 15  release_date           38825 non-null  object \n",
      " 16  revenue                39460 non-null  int64  \n",
      " 17  runtime                39460 non-null  int64  \n",
      " 18  spoken_languages       39460 non-null  object \n",
      " 19  status                 39460 non-null  object \n",
      " 20  tagline                14990 non-null  object \n",
      " 21  title                  39460 non-null  object \n",
      " 22  video                  39460 non-null  bool   \n",
      " 23  vote_average           39460 non-null  float64\n",
      " 24  vote_count             39460 non-null  int64  \n",
      " 25  certification          8532 non-null   object \n",
      "dtypes: bool(2), float64(2), int64(5), object(17)\n",
      "memory usage: 7.6+ MB\n"
     ]
    }
   ],
   "source": [
    "final_df.info()"
   ]
  },
  {
   "cell_type": "code",
   "execution_count": 8,
   "metadata": {},
   "outputs": [
    {
     "data": {
      "text/html": [
       "<div>\n",
       "<style scoped>\n",
       "    .dataframe tbody tr th:only-of-type {\n",
       "        vertical-align: middle;\n",
       "    }\n",
       "\n",
       "    .dataframe tbody tr th {\n",
       "        vertical-align: top;\n",
       "    }\n",
       "\n",
       "    .dataframe thead th {\n",
       "        text-align: right;\n",
       "    }\n",
       "</style>\n",
       "<table border=\"1\" class=\"dataframe\">\n",
       "  <thead>\n",
       "    <tr style=\"text-align: right;\">\n",
       "      <th></th>\n",
       "      <th>budget</th>\n",
       "      <th>id</th>\n",
       "      <th>popularity</th>\n",
       "      <th>revenue</th>\n",
       "      <th>runtime</th>\n",
       "      <th>vote_average</th>\n",
       "      <th>vote_count</th>\n",
       "    </tr>\n",
       "  </thead>\n",
       "  <tbody>\n",
       "    <tr>\n",
       "      <th>count</th>\n",
       "      <td>3.946000e+04</td>\n",
       "      <td>3.946000e+04</td>\n",
       "      <td>39460.000000</td>\n",
       "      <td>3.946000e+04</td>\n",
       "      <td>39460.000000</td>\n",
       "      <td>39460.000000</td>\n",
       "      <td>39460.000000</td>\n",
       "    </tr>\n",
       "    <tr>\n",
       "      <th>mean</th>\n",
       "      <td>2.877349e+06</td>\n",
       "      <td>3.836410e+05</td>\n",
       "      <td>4.573750</td>\n",
       "      <td>8.310617e+06</td>\n",
       "      <td>92.081526</td>\n",
       "      <td>4.680245</td>\n",
       "      <td>238.930208</td>\n",
       "    </tr>\n",
       "    <tr>\n",
       "      <th>std</th>\n",
       "      <td>1.585616e+07</td>\n",
       "      <td>2.307572e+05</td>\n",
       "      <td>9.033143</td>\n",
       "      <td>6.409798e+07</td>\n",
       "      <td>31.083457</td>\n",
       "      <td>2.532711</td>\n",
       "      <td>1297.310034</td>\n",
       "    </tr>\n",
       "    <tr>\n",
       "      <th>min</th>\n",
       "      <td>0.000000e+00</td>\n",
       "      <td>6.400000e+01</td>\n",
       "      <td>0.000000</td>\n",
       "      <td>0.000000e+00</td>\n",
       "      <td>0.000000</td>\n",
       "      <td>0.000000</td>\n",
       "      <td>0.000000</td>\n",
       "    </tr>\n",
       "    <tr>\n",
       "      <th>25%</th>\n",
       "      <td>0.000000e+00</td>\n",
       "      <td>2.139082e+05</td>\n",
       "      <td>0.824000</td>\n",
       "      <td>0.000000e+00</td>\n",
       "      <td>84.000000</td>\n",
       "      <td>3.700000</td>\n",
       "      <td>1.000000</td>\n",
       "    </tr>\n",
       "    <tr>\n",
       "      <th>50%</th>\n",
       "      <td>0.000000e+00</td>\n",
       "      <td>3.726165e+05</td>\n",
       "      <td>1.692000</td>\n",
       "      <td>0.000000e+00</td>\n",
       "      <td>93.000000</td>\n",
       "      <td>5.447000</td>\n",
       "      <td>7.000000</td>\n",
       "    </tr>\n",
       "    <tr>\n",
       "      <th>75%</th>\n",
       "      <td>0.000000e+00</td>\n",
       "      <td>5.315202e+05</td>\n",
       "      <td>4.695250</td>\n",
       "      <td>0.000000e+00</td>\n",
       "      <td>105.000000</td>\n",
       "      <td>6.400000</td>\n",
       "      <td>37.000000</td>\n",
       "    </tr>\n",
       "    <tr>\n",
       "      <th>max</th>\n",
       "      <td>3.790000e+08</td>\n",
       "      <td>1.246357e+06</td>\n",
       "      <td>344.517000</td>\n",
       "      <td>2.800000e+09</td>\n",
       "      <td>1440.000000</td>\n",
       "      <td>10.000000</td>\n",
       "      <td>35248.000000</td>\n",
       "    </tr>\n",
       "  </tbody>\n",
       "</table>\n",
       "</div>"
      ],
      "text/plain": [
       "             budget            id    popularity       revenue       runtime  \\\n",
       "count  3.946000e+04  3.946000e+04  39460.000000  3.946000e+04  39460.000000   \n",
       "mean   2.877349e+06  3.836410e+05      4.573750  8.310617e+06     92.081526   \n",
       "std    1.585616e+07  2.307572e+05      9.033143  6.409798e+07     31.083457   \n",
       "min    0.000000e+00  6.400000e+01      0.000000  0.000000e+00      0.000000   \n",
       "25%    0.000000e+00  2.139082e+05      0.824000  0.000000e+00     84.000000   \n",
       "50%    0.000000e+00  3.726165e+05      1.692000  0.000000e+00     93.000000   \n",
       "75%    0.000000e+00  5.315202e+05      4.695250  0.000000e+00    105.000000   \n",
       "max    3.790000e+08  1.246357e+06    344.517000  2.800000e+09   1440.000000   \n",
       "\n",
       "       vote_average    vote_count  \n",
       "count  39460.000000  39460.000000  \n",
       "mean       4.680245    238.930208  \n",
       "std        2.532711   1297.310034  \n",
       "min        0.000000      0.000000  \n",
       "25%        3.700000      1.000000  \n",
       "50%        5.447000      7.000000  \n",
       "75%        6.400000     37.000000  \n",
       "max       10.000000  35248.000000  "
      ]
     },
     "execution_count": 8,
     "metadata": {},
     "output_type": "execute_result"
    }
   ],
   "source": [
    "final_df.describe()"
   ]
  },
  {
   "cell_type": "code",
   "execution_count": null,
   "metadata": {},
   "outputs": [],
   "source": [
    "final_df[]"
   ]
  },
  {
   "cell_type": "code",
   "execution_count": 6,
   "metadata": {},
   "outputs": [
    {
     "data": {
      "text/plain": [
       "([<matplotlib.patches.Wedge at 0x24abc8f1cd0>,\n",
       "  <matplotlib.patches.Wedge at 0x24abc90c450>],\n",
       " [Text(-0.6927734330869145, 0.8544383947418156, 'Movies Without Financial Data'),\n",
       "  Text(0.6927735130852074, -0.854438329879682, 'Movies with Financial Data')],\n",
       " [Text(-0.37787641804740785, 0.46605730622280844, '1909'),\n",
       "  Text(0.37787646168284034, -0.4660572708434628, '754')])"
      ]
     },
     "execution_count": 6,
     "metadata": {},
     "output_type": "execute_result"
    },
    {
     "data": {
      "image/png": "[encoded data removed]",
      "text/plain": [
       "<Figure size 640x480 with 1 Axes>"
      ]
     },
     "metadata": {},
     "output_type": "display_data"
    }
   ],
   "source": [
    "s= test = (final_df.budget>0) | (final_df.revenue>0)\n",
    "count = test.groupby(s).count()\n",
    "labels = [\"Movies Without Financial Data\", \"Movies with Financial Data\"]\n",
    "plt.pie(count, labels=labels, autopct=lambda x: round(x/100*final_df.shape[0]))"
   ]
  },
  {
   "cell_type": "code",
   "execution_count": 7,
   "metadata": {},
   "outputs": [],
   "source": [
    "# define a dataframe with only movies with financial data\n",
    "final_df_filtred = final_df[(final_df.budget>0) | (final_df.revenue>0)]"
   ]
  },
  {
   "cell_type": "code",
   "execution_count": 8,
   "metadata": {},
   "outputs": [
    {
     "data": {
      "text/plain": [
       "<Axes: xlabel='certification', ylabel='count'>"
      ]
     },
     "execution_count": 8,
     "metadata": {},
     "output_type": "execute_result"
    },
    {
     "data": {
      "image/png": "[encoded data removed]",
      "text/plain": [
       "<Figure size 640x480 with 1 Axes>"
      ]
     },
     "metadata": {},
     "output_type": "display_data"
    }
   ],
   "source": [
    "sns.countplot(data=final_df_filtred.dropna(), x=\"certification\")"
   ]
  },
  {
   "cell_type": "code",
   "execution_count": 9,
   "metadata": {},
   "outputs": [
    {
     "data": {
      "text/plain": [
       "Text(0, 0.5, 'average revenue')"
      ]
     },
     "execution_count": 9,
     "metadata": {},
     "output_type": "execute_result"
    },
    {
     "data": {
      "image/png": "[encoded data removed]",
      "text/plain": [
       "<Figure size 640x480 with 1 Axes>"
      ]
     },
     "metadata": {},
     "output_type": "display_data"
    }
   ],
   "source": [
    "sns.barplot(data=final_df_filtred.dropna(), x=\"certification\", y=\"revenue\", errorbar=None)\n",
    "plt.ylabel(\"average revenue\")"
   ]
  },
  {
   "cell_type": "code",
   "execution_count": 10,
   "metadata": {},
   "outputs": [
    {
     "data": {
      "text/plain": [
       "Text(0, 0.5, 'average budget')"
      ]
     },
     "execution_count": 10,
     "metadata": {},
     "output_type": "execute_result"
    },
    {
     "data": {
      "image/png": "[encoded data removed]",
      "text/plain": [
       "<Figure size 640x480 with 1 Axes>"
      ]
     },
     "metadata": {},
     "output_type": "display_data"
    }
   ],
   "source": [
    "sns.barplot(data=final_df_filtred.dropna(), x=\"certification\", y=\"budget\", errorbar=None)\n",
    "plt.ylabel(\"average budget\")"
   ]
  },
  {
   "cell_type": "code",
   "execution_count": 11,
   "metadata": {},
   "outputs": [],
   "source": [
    "# save the final dataframe to a csv compressed file\n",
    "final_df.to_csv(\"Data/tmdb_results_combined.csv.gz\", compression=\"gzip\", index=False)"
   ]
  }
 ],
 "metadata": {
  "kernelspec": {
   "display_name": "Python 3",
   "language": "python",
   "name": "python3"
  },
  "language_info": {
   "codemirror_mode": {
    "name": "ipython",
    "version": 3
   },
   "file_extension": ".py",
   "mimetype": "text/x-python",
   "name": "python",
   "nbconvert_exporter": "python",
   "pygments_lexer": "ipython3",
   "version": "3.11.4"
  }
 },
 "nbformat": 4,
 "nbformat_minor": 2
}
